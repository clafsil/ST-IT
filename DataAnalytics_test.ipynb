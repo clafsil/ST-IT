{
  "nbformat": 4,
  "nbformat_minor": 5,
  "metadata": {
    "kernelspec": {
      "display_name": "Python 3",
      "language": "python",
      "name": "python3"
    },
    "language_info": {
      "codemirror_mode": {
        "name": "ipython",
        "version": 3
      },
      "file_extension": ".py",
      "mimetype": "text/x-python",
      "name": "python",
      "nbconvert_exporter": "python",
      "pygments_lexer": "ipython3",
      "version": "3.8.5"
    },
    "colab": {
      "name": "DataAnalytics_test.ipynb",
      "provenance": []
    }
  },
  "cells": [
    {
      "cell_type": "markdown",
      "metadata": {
        "id": "9eec3119"
      },
      "source": [
        "# ST IT Cloud - Data and Analytics Test LV.4\n",
        "\n",
        "Esse teste deve avaliar alguns conceitos de big data e a qualidade técnica na manipulacão de dados, otimização de performance, trabalho com arquivos grandes e tratamento de qualidade.\n",
        "\n",
        "## Passo a passo\n",
        "\n",
        "- *Parte teórica:* responda as questões abaixo preenchendo as células em branco.\n",
        "- *Parte prática:* disponibilizamos aqui 2 cases para, leia os enunciados dos problemas, desenvolver os programas, utilizando a **stack definida durante o processo seletivo**, para entregar os dados de acordo com os requisitos descritos abaixo.\n",
        "\n",
        "\n",
        "\n",
        "**Faz parte dos critérios de avaliacão a pontualidade da entrega. Implemente até onde for possível dentro do prazo acordado.**\n",
        "\n",
        "**Os dados de pessoas foram gerados de forma aleatória, utilizando a biblioteca FakerJS, FakerJS-BR e Faker**\n",
        "\n",
        "LEMBRE-SE: A entrega deve conter TODOS os passos para o avaliador executar o programa (keep it simple).\n"
      ],
      "id": "9eec3119"
    },
    {
      "cell_type": "markdown",
      "metadata": {
        "id": "9447dec4"
      },
      "source": [
        "**Questão 1** - Descreva de forma detalhada quais são as etapas na construção de um pipeline de dados, sem considerar ferramentas específicas, imagine que é seu primeiro contato com o cliente e você precisa entender a demanda dele e explicar quais são os passos que você terá que implementar para entregar a demanda."
      ],
      "id": "9447dec4"
    },
    {
      "cell_type": "code",
      "metadata": {
        "id": "c11c64a8"
      },
      "source": [
        "# Resposta: O primeiro passo é entender a demanda fazendo o levantamento dos requisitos. Conhecendo o problema, \n",
        "# teremos condições de realizar o desenho da soluçao técnica e planejar o desenvolvimento, homologar e implantar a demanda.\n",
        "\n",
        "# A construção do pipeline de dados abrange as seguintes etapas: mapeamento dos dados na origem, ingestão do dado bruto no destino (exemplo: camada row data no data lake),\n",
        "# particionamento (exemplo: parquet), transformação dos dados aplicando as regras de negócio, padronização e limpeza (exemplo:  EMR) e disponibilização da informação em um DW (exemplo: Redshift)\n",
        "\n"
      ],
      "id": "c11c64a8",
      "execution_count": 2,
      "outputs": []
    },
    {
      "cell_type": "markdown",
      "metadata": {
        "id": "dc703af3"
      },
      "source": [
        "**Questão 2** - Defina com suas palavras um processamento em streaming e processamento em batch. Qual sua experiência com cada uma delas."
      ],
      "id": "dc703af3"
    },
    {
      "cell_type": "code",
      "metadata": {
        "id": "028a8db5"
      },
      "source": [
        "# O processamento em streaming deve ser continuo, pois existe a necessidade de utilizar os dados em tempo real para gerar valor ao negócio. Por exemplo, o cliente ao efetivar uma compra ele já recebe uma pesquisa de satisfação em seu e-mail.\n",
        "# O processamento em batch pode ter uma janela de processamento programada. Um exemplo para esse modelo são os paineis de indicadores executivos, onde não há necessidade de acompanhando em tempo real. \n"
      ],
      "id": "028a8db5",
      "execution_count": null,
      "outputs": []
    },
    {
      "cell_type": "markdown",
      "metadata": {
        "id": "1c1c3f10"
      },
      "source": [
        "**Questão 3** - Quais são as camadas de um Data Lake?"
      ],
      "id": "1c1c3f10"
    },
    {
      "cell_type": "code",
      "metadata": {
        "id": "5b803419"
      },
      "source": [
        "# As camadas são: \n",
        "#    1.Row Data - Armazenamento de dados Brutos \n",
        "#    2.Trusted  - Camada onde os dados são desnormalizados e centralizados, aplicando rotinas para limpar, padronizar e definir nomenclaturas amigáveis dos campos.\n",
        "#    3.Refined  - Camada onde os dados são transformados ou enriquecidos de acordo a regra do negócio"
      ],
      "id": "5b803419",
      "execution_count": null,
      "outputs": []
    },
    {
      "cell_type": "markdown",
      "metadata": {
        "id": "62477089"
      },
      "source": [
        "**Questão 4** - Quais as diferenças de um Data Lake e um DW?"
      ],
      "id": "62477089"
    },
    {
      "cell_type": "code",
      "metadata": {
        "id": "86c408c7"
      },
      "source": [
        "# O Data Lake armazena dados estruturados, semi-estruturados e nao estruturados, que pode vir de diversas fontes (sistemas legados, dados abertos, imagens, redes sociais etc)\n",
        "# O DW armazena os dados transformados e estruturados e estão prontos para responder as necessidades do négocio."
      ],
      "id": "86c408c7",
      "execution_count": null,
      "outputs": []
    },
    {
      "cell_type": "markdown",
      "metadata": {
        "id": "7099a05e"
      },
      "source": [
        "**Questão 5** - O que é arquitetura Lambda e Kappa? Descreva com suas palavras."
      ],
      "id": "7099a05e"
    },
    {
      "cell_type": "code",
      "metadata": {
        "id": "b4347923"
      },
      "source": [
        "# Arquitetura Lambda consiste em processar o dado em lote e disponibilizar para uso. Já a arquitetura Kappa não tem a camada de lote, sendo assim o processamento é contínuo."
      ],
      "id": "b4347923",
      "execution_count": null,
      "outputs": []
    },
    {
      "cell_type": "markdown",
      "metadata": {
        "id": "6e3d483e"
      },
      "source": [
        "**Questão 6** - O que é Data Quality para você e como você implementa isso nos seus processos?"
      ],
      "id": "6e3d483e"
    },
    {
      "cell_type": "code",
      "metadata": {
        "id": "bf54dfa9"
      },
      "source": [
        ""
      ],
      "id": "bf54dfa9",
      "execution_count": null,
      "outputs": []
    },
    {
      "cell_type": "markdown",
      "metadata": {
        "id": "bd4834d6"
      },
      "source": [
        "**Questão 7** - Em uma escala de 0 a 10, qual seria seu nível de experiência com PySpark?"
      ],
      "id": "bd4834d6"
    },
    {
      "cell_type": "code",
      "metadata": {
        "id": "86ddda4b"
      },
      "source": [
        ""
      ],
      "id": "86ddda4b",
      "execution_count": null,
      "outputs": []
    },
    {
      "cell_type": "markdown",
      "metadata": {
        "id": "66ef78ba"
      },
      "source": [
        "**Questão 8** - Em uma escala de 0 a 10, qual seria seu nível de experiência com SQL?"
      ],
      "id": "66ef78ba"
    },
    {
      "cell_type": "code",
      "metadata": {
        "id": "33569bd8"
      },
      "source": [
        ""
      ],
      "id": "33569bd8",
      "execution_count": null,
      "outputs": []
    },
    {
      "cell_type": "markdown",
      "metadata": {
        "id": "5e5f7ee6"
      },
      "source": [
        "**Questão 9** - Descreva suas expeciências com banco de dados SQL e NoSQL."
      ],
      "id": "5e5f7ee6"
    },
    {
      "cell_type": "code",
      "metadata": {
        "id": "a558d57a"
      },
      "source": [
        ""
      ],
      "id": "a558d57a",
      "execution_count": null,
      "outputs": []
    },
    {
      "cell_type": "markdown",
      "metadata": {
        "id": "ef2fa6e5"
      },
      "source": [
        "**Questão 10** - Tem experiência com versionamento de código? Com quais ferramentas já trabalhou? Descreva."
      ],
      "id": "ef2fa6e5"
    },
    {
      "cell_type": "code",
      "metadata": {
        "id": "1932a1b0"
      },
      "source": [
        ""
      ],
      "id": "1932a1b0",
      "execution_count": null,
      "outputs": []
    },
    {
      "cell_type": "markdown",
      "metadata": {
        "id": "efe2714f"
      },
      "source": [
        "**Questão 11** - Tem experiência em desenvolvimento em cloud? Se sim, especifique a(s) plataforma(s) que já trabalhou e suas principais implementações e conhecimentos em cada serviço."
      ],
      "id": "efe2714f"
    },
    {
      "cell_type": "code",
      "metadata": {
        "id": "d47d2a32"
      },
      "source": [
        ""
      ],
      "id": "d47d2a32",
      "execution_count": null,
      "outputs": []
    },
    {
      "cell_type": "markdown",
      "metadata": {
        "id": "af9bc70d"
      },
      "source": [
        "**Questão 12** - Tem experiência com metodologia ágil? Qual?"
      ],
      "id": "af9bc70d"
    },
    {
      "cell_type": "code",
      "metadata": {
        "id": "7c5be8d7"
      },
      "source": [
        ""
      ],
      "id": "7c5be8d7",
      "execution_count": null,
      "outputs": []
    },
    {
      "cell_type": "markdown",
      "metadata": {
        "id": "1eb61f06"
      },
      "source": [
        "# TESTE PRÁTICO"
      ],
      "id": "1eb61f06"
    },
    {
      "cell_type": "markdown",
      "metadata": {
        "id": "8ed8c6a5"
      },
      "source": [
        "**Problema 1**: Você está recebendo o arquivo 'dados_cadastrais_fake.csv' que contem dados cadastrais de clientes, mas para que análises ou relatórios sejam feitos é necessário limpar e normalizar os dados. Além disso, existe uma coluna com o número de cpf e outra com cnpj, você precisará padronizar deixando apenas dígitos em formato string (sem caracteres especiais), implementar uma forma de verificar se tais documentos são válidos sendo que a informação deve se adicionada ao dataframe em outras duas novas colunas.\n",
        "\n",
        "Após a normalização, gere reports que respondam as seguintes perguntas:\n",
        "- Quantos clientes temos nessa base?\n",
        "- Qual a média de idade dos clientes?\n",
        "- Quantos clientes nessa base pertencem a cada estado?\n",
        "- Quantos CPFs válidos e inválidos foram encontrados?\n",
        "- Quantos CNPJs válidos e inválidos foram encontrados?\n",
        "\n",
        "Ao final gere um arquivo no formato csv e um outro arquivo no formato parquet chamado (problema1_normalizado), eles serão destinados para pessoas distintas.\n",
        "\n",
        "*EXTRA:* executar as mesmas validações no *1E8.csv.gz"
      ],
      "id": "8ed8c6a5"
    },
    {
      "cell_type": "code",
      "metadata": {
        "id": "3b1b6c2d"
      },
      "source": [
        ""
      ],
      "id": "3b1b6c2d",
      "execution_count": null,
      "outputs": []
    },
    {
      "cell_type": "markdown",
      "metadata": {
        "id": "a2da9c40"
      },
      "source": [
        "**Problema 2**: Você deverá implementar um programa, para ler, tratar e particionar os dados.\n",
        "\n",
        "O arquivo fonte está disponível em `https://st-it-cloud-public.s3.amazonaws.com/people-v2_1E6.csv.gz`\n",
        "\n",
        "### Data Quality\n",
        "\n",
        "- Higienizar e homogenizar o formato da coluna `document`\n",
        "- Detectar através da coluna `document` se o registro é de uma Pessoa Física ou Pessoa Jurídica, adicionando uma coluna com essa informação\n",
        "- Higienizar e homogenizar o formato da coluna `birthDate`\n",
        "- Existem duas colunas nesse dataset que em alguns registros estão trocadas. Quais são essas colunas? \n",
        "- Corrigir os dados com as colunas trocadas\n",
        "- Além desses pontos, existem outras tratamentos para homogenizar esse dataset. Aplique todos que conseguir.\n",
        "\n",
        "### Agregação dos dados\n",
        "\n",
        "- Quais são as 5 PF que mais gastaram (`totalSpent`)? \n",
        "- Qual é o valor de gasto médio por estado (`state`)?\n",
        "- Qual é o valor de gasto médio por `jobArea`?\n",
        "- Qual é a PF que gastou menos (`totalSpent`)?\n",
        "- Quantos nomes e documentos repetidos existem nesse dataset?\n",
        "- Quantas linhas existem nesse dataset?\n",
        "\n",
        "### Particionamento de dados tratados com as regras descritas em `DATA QUALITY`\n",
        "\n",
        "- Particionar em arquivos PARQUET por estado (`state`)\n",
        "- Particionar em arquivos CSV por ano/mes/dia de nascimento (`birthDate`)"
      ],
      "id": "a2da9c40"
    },
    {
      "cell_type": "code",
      "metadata": {
        "id": "2277f816"
      },
      "source": [
        ""
      ],
      "id": "2277f816",
      "execution_count": null,
      "outputs": []
    }
  ]
}